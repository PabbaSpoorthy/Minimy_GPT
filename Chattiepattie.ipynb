{
 "cells": [
  {
   "cell_type": "code",
   "execution_count": 3,
   "id": "e64511b9-8ef2-4abf-8f33-173ff4560980",
   "metadata": {},
   "outputs": [],
   "source": [
    "import os\n",
    "import sys\n",
    "import constants\n",
    "#os.environ[\"OPENAI_API_KEY\"]=constants.APIKEY\n",
    "import warnings\n",
    "warnings.filterwarnings(\"ignore\")"
   ]
  },
  {
   "cell_type": "code",
   "execution_count": 4,
   "id": "3e44414e-c2ee-40e4-b379-3afdc203b07b",
   "metadata": {},
   "outputs": [],
   "source": [
    "from langchain.document_loaders import TextLoader\n",
    "from langchain.indexes import VectorstoreIndexCreator\n",
    "from langchain.llms import OpenAI\n",
    "from langchain.chat_models import ChatOpenAI"
   ]
  },
  {
   "cell_type": "code",
   "execution_count": 5,
   "id": "c5d93f75-5f97-412b-bad6-6eb9c5dc32c7",
   "metadata": {},
   "outputs": [
    {
     "name": "stdout",
     "output_type": "stream",
     "text": [
      "Query Please hi\n"
     ]
    },
    {
     "name": "stdout",
     "output_type": "stream",
     "text": [
      "hi\n"
     ]
    }
   ],
   "source": [
    "query=input(\"Query Please\")\n",
    "print(query)"
   ]
  },
  {
   "cell_type": "code",
   "execution_count": 6,
   "id": "076e272d-4c97-473f-8761-77d00d92e943",
   "metadata": {},
   "outputs": [
    {
     "name": "stdout",
     "output_type": "stream",
     "text": [
      "Query Please hi\n"
     ]
    },
    {
     "name": "stderr",
     "output_type": "stream",
     "text": [
      "Number of requested results 4 is greater than number of elements in index 1, updating n_results = 1\n"
     ]
    },
    {
     "name": "stdout",
     "output_type": "stream",
     "text": [
      " Hi there! Nice to meet you.\n"
     ]
    }
   ],
   "source": [
    "from langchain.indexes.vectorstore import VectorstoreIndexCreator\n",
    "\n",
    "openai_api_key = read.APIKEY\n",
    "\n",
    "loader = TextLoader('/path/text_folder.txt')\n",
    "\n",
    "import os\n",
    "os.environ['OPENAI_API_KEY'] = openai_api_key\n",
    "\n",
    "index_creator = VectorstoreIndexCreator()\n",
    "\n",
    "documents = loader.load()\n",
    "\n",
    "index = index_creator.from_documents(documents)\n",
    "query=input(\"Query Please\")\n",
    "print(index.query(query))"
   ]
  },
  {
   "cell_type": "code",
   "execution_count": null,
   "id": "3e2c26bf-9609-4692-b4e6-6ce9a4727965",
   "metadata": {},
   "outputs": [],
   "source": []
  },
  {
   "cell_type": "code",
   "execution_count": null,
   "id": "2ad5d750-7218-4580-8956-2864086d8422",
   "metadata": {},
   "outputs": [],
   "source": []
  },
  {
   "cell_type": "code",
   "execution_count": null,
   "id": "aaecf1de-de4a-410e-a66c-a91c56c55213",
   "metadata": {},
   "outputs": [],
   "source": []
  },
  {
   "cell_type": "code",
   "execution_count": null,
   "id": "2026d01e-1a5a-42be-93a6-26fd6df5c180",
   "metadata": {},
   "outputs": [],
   "source": []
  },
  {
   "cell_type": "code",
   "execution_count": null,
   "id": "315c226a-17cb-4dec-add3-64a298a1d439",
   "metadata": {},
   "outputs": [],
   "source": []
  },
  {
   "cell_type": "code",
   "execution_count": null,
   "id": "a0509a42-f3be-4cfa-b0d2-0e4d147b8e78",
   "metadata": {},
   "outputs": [],
   "source": [
    "import tkinter as tk\n",
    "from langchain.indexes.vectorstore import VectorstoreIndexCreator\n",
    "from langchain.document_loaders import TextLoader\n",
    "import os\n",
    "import constants\n",
    "\n",
    "def execute_code():\n",
    "    query = query_entry.get()\n",
    "\n",
    "    result_text.delete(1.0, tk.END)  # Clear previous results\n",
    "\n",
    "    openai_api_key = constants.APIKEY\n",
    "\n",
    "    loader = TextLoader('/path_text_file.txt')\n",
    "\n",
    "    os.environ['OPENAI_API_KEY'] = openai_api_key\n",
    "\n",
    "    index_creator = VectorstoreIndexCreator()\n",
    "\n",
    "    documents = loader.load()\n",
    "\n",
    "    index = index_creator.from_documents(documents)\n",
    "\n",
    "    result_text.insert(tk.END, str(index.query(query)))\n",
    "\n",
    "# Create the main window\n",
    "window = tk.Tk()\n",
    "window.title(\"OpenAI Code Executor\")\n",
    "\n",
    "query_label = tk.Label(window, text=\"Query:\")\n",
    "query_entry = tk.Entry(window, width=25)\n",
    "execute_button = tk.Button(window, text=\"Execute Code\", command=execute_code)\n",
    "result_label = tk.Label(window, text=\"Results:\")\n",
    "result_text = tk.Text(window, height=10, width=50)\n",
    "\n",
    "query_label.pack(pady=10)\n",
    "query_entry.pack(pady=10)\n",
    "execute_button.pack(pady=10)\n",
    "result_label.pack(pady=10)\n",
    "result_text.pack(pady=10)\n",
    "\n",
    "# Start the main loop\n",
    "window.mainloop()\n"
   ]
  },
  {
   "cell_type": "code",
   "execution_count": null,
   "id": "40d044ec-56a7-4b5a-96b6-020a557b95f0",
   "metadata": {},
   "outputs": [],
   "source": []
  },
  {
   "cell_type": "code",
   "execution_count": null,
   "id": "011cb567-d2fd-439d-804b-eaf3327c6852",
   "metadata": {},
   "outputs": [],
   "source": []
  }
 ],
 "metadata": {
  "kernelspec": {
   "display_name": "spoo_env",
   "language": "python",
   "name": "spoo_env"
  },
  "language_info": {
   "codemirror_mode": {
    "name": "ipython",
    "version": 3
   },
   "file_extension": ".py",
   "mimetype": "text/x-python",
   "name": "python",
   "nbconvert_exporter": "python",
   "pygments_lexer": "ipython3",
   "version": "3.11.4"
  }
 },
 "nbformat": 4,
 "nbformat_minor": 5
}
